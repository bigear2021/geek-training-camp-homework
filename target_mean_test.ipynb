{
  "nbformat": 4,
  "nbformat_minor": 0,
  "metadata": {
    "colab": {
      "name": "target_mean_test.ipynb",
      "provenance": [],
      "collapsed_sections": [],
      "authorship_tag": "ABX9TyNyE1/V4XSswMElcNXR7N/l",
      "include_colab_link": true
    },
    "kernelspec": {
      "display_name": "Python 3",
      "name": "python3"
    },
    "language_info": {
      "name": "python"
    }
  },
  "cells": [
    {
      "cell_type": "markdown",
      "metadata": {
        "id": "view-in-github",
        "colab_type": "text"
      },
      "source": [
        "<a href=\"https://colab.research.google.com/github/bigear2021/geek-training-camp-homework/blob/main/target_mean_test.ipynb\" target=\"_parent\"><img src=\"https://colab.research.google.com/assets/colab-badge.svg\" alt=\"Open In Colab\"/></a>"
      ]
    },
    {
      "cell_type": "markdown",
      "metadata": {
        "id": "-s5xndJIcApK"
      },
      "source": [
        "target_mean函数作业  \n",
        "陈卓"
      ]
    },
    {
      "cell_type": "code",
      "metadata": {
        "id": "mf3xNEbzp3lr"
      },
      "source": [
        "%load_ext Cython"
      ],
      "execution_count": null,
      "outputs": []
    },
    {
      "cell_type": "code",
      "metadata": {
        "id": "P5dilKm7cKxi"
      },
      "source": [
        "#课堂代码\n",
        "# distutils: language=c++\n",
        "%%cython\n",
        "import numpy as np\n",
        "cimport numpy as np\n",
        "import pandas as pd\n",
        "import time\n",
        "\n",
        "\n",
        "def hello():\n",
        "    print(\"hello\")\n",
        "\n",
        "\n",
        "def target_mean_v2(data, y_name, x_name):\n",
        "    result = np.zeros(data.shape[0])\n",
        "    value_dict = dict()\n",
        "    count_dict = dict()\n",
        "    for i in range(data.shape[0]):\n",
        "        if data.loc[i, x_name] not in value_dict.keys():\n",
        "            value_dict[data.loc[i, x_name]] = data.loc[i, y_name]\n",
        "            count_dict[data.loc[i, x_name]] = 1\n",
        "        else:\n",
        "            value_dict[data.loc[i, x_name]] += data.loc[i, y_name]\n",
        "            count_dict[data.loc[i, x_name]] += 1\n",
        "    for i in range(data.shape[0]):\n",
        "        result[i] = (value_dict[data.loc[i, x_name]] - data.loc[i, y_name]) / (count_dict[data.loc[i, x_name]] - 1)\n",
        "    return result\n",
        "\n",
        "cpdef target_mean_v3(data, y_name, x_name):\n",
        "    cdef long nrow = data.shape[0]\n",
        "    cdef np.ndarray[double] result = np.asfortranarray(np.zeros(nrow), dtype=np.float64)\n",
        "    cdef np.ndarray[double] y = np.asfortranarray(data[y_name], dtype=np.float64)\n",
        "    cdef np.ndarray[double] x = np.asfortranarray(data[x_name], dtype=np.float64)\n",
        "\n",
        "    target_mean_v3_impl(result, y, x, nrow)\n",
        "    return result\n",
        "\n",
        "cdef void target_mean_v3_impl(double[:] result, double[:] y, double[:] x, const long nrow):\n",
        "    cdef dict value_dict = dict()\n",
        "    cdef dict count_dict = dict()\n",
        "\n",
        "    cdef long i\n",
        "    for i in range(nrow):\n",
        "        if x[i] not in value_dict.keys():\n",
        "            value_dict[x[i]] = y[i]\n",
        "            count_dict[x[i]] = 1\n",
        "        else:\n",
        "            value_dict[x[i]] += y[i]\n",
        "            count_dict[x[i]] += 1\n",
        "\n",
        "    i=0\n",
        "    for i in range(nrow):\n",
        "        result[i] = (value_dict[x[i]] - y[i])/(count_dict[x[i]]-1)"
      ],
      "execution_count": 55,
      "outputs": []
    },
    {
      "cell_type": "code",
      "metadata": {
        "colab": {
          "base_uri": "https://localhost:8080/"
        },
        "id": "6oYtYn1sPBwH",
        "outputId": "dac4b0c1-f16c-44da-e8dd-aeb912e37970"
      },
      "source": [
        "def main():\n",
        "    y = np.random.randint(2, size=(100000, 1))\n",
        "    x = np.random.randint(10, size=(100000, 1))\n",
        "    data = pd.DataFrame(np.concatenate([y, x], axis=1), columns=['y', 'x'])\n",
        "    start=time.time()\n",
        "    result = target_mean_v3(data, 'y', 'x')\n",
        "    end=time.time()\n",
        "    print(end-start)\n",
        "\n",
        "\n",
        "if __name__ == '__main__':\n",
        "    print('teacher time')\n",
        "    main()"
      ],
      "execution_count": 56,
      "outputs": [
        {
          "output_type": "stream",
          "text": [
            "teacher time\n",
            "0.05012845993041992\n"
          ],
          "name": "stdout"
        }
      ]
    },
    {
      "cell_type": "code",
      "metadata": {
        "id": "uJqKdnrrPWCK"
      },
      "source": [
        "#本人代码\n",
        "%%cython\n",
        "import numpy as np\n",
        "cimport numpy as np\n",
        "import pandas as pd\n",
        "import time\n",
        "\n",
        "#修改点:都使用整型\n",
        "cpdef target_mean_v3(data, y_name, x_name):\n",
        "#修改点：避免负下标索引\n",
        "    cdef unsigned int nrow = data.shape[0]\n",
        "    cdef np.ndarray[long] result = np.asfortranarray(np.zeros(nrow), dtype=np.int64)\n",
        "    cdef np.ndarray[long] y = np.asfortranarray(data[y_name], dtype=np.int64)\n",
        "    cdef np.ndarray[long] x = np.asfortranarray(data[x_name], dtype=np.int64)\n",
        "\n",
        "    target_mean_v3_impl(result, y, x, nrow)\n",
        "    return result\n",
        "\n",
        "cdef void target_mean_v3_impl(long[:] result, long[:] y, long[:] x, const long nrow):\n",
        "    cdef dict value_dict = dict()\n",
        "    cdef dict count_dict = dict()\n",
        "#修改点：避免负下标索引\n",
        "    cdef unsigned int i\n",
        "    for i in range(nrow):\n",
        "        if x[i] not in value_dict.keys():\n",
        "            value_dict[x[i]] = y[i]\n",
        "            count_dict[x[i]] = 1\n",
        "        else:\n",
        "            value_dict[x[i]] += y[i]\n",
        "            count_dict[x[i]] += 1\n",
        "\n",
        "    i=0\n",
        "    for i in range(nrow):\n",
        "        result[i] = (value_dict[x[i]] - y[i])/(count_dict[x[i]]-1)"
      ],
      "execution_count": 53,
      "outputs": []
    },
    {
      "cell_type": "code",
      "metadata": {
        "colab": {
          "base_uri": "https://localhost:8080/"
        },
        "id": "dpP6zx_USg_w",
        "outputId": "5d4dcb4e-f240-4666-e498-044f31c9bf1b"
      },
      "source": [
        "def main():\n",
        "    y = np.random.randint(2, size=(100000, 1))\n",
        "    x = np.random.randint(10, size=(100000, 1))\n",
        "    data = pd.DataFrame(np.concatenate([y, x], axis=1), columns=['y', 'x'])\n",
        "    start=time.time()\n",
        "    result = target_mean_v3(data, 'y', 'x')\n",
        "    end=time.time()\n",
        "    print(end-start)\n",
        "\n",
        "\n",
        "if __name__ == '__main__':\n",
        "    print('my time')\n",
        "    main()"
      ],
      "execution_count": 54,
      "outputs": [
        {
          "output_type": "stream",
          "text": [
            "my time\n",
            "0.02729177474975586\n"
          ],
          "name": "stdout"
        }
      ]
    }
  ]
}